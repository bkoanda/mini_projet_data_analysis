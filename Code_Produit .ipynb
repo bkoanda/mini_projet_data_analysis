{
  "nbformat": 4,
  "nbformat_minor": 0,
  "metadata": {
    "colab": {
      "provenance": []
    },
    "kernelspec": {
      "name": "python3",
      "display_name": "Python 3"
    },
    "language_info": {
      "name": "python"
    }
  },
  "cells": [
    {
      "cell_type": "markdown",
      "source": [
        "# Mini Projet\n",
        "\n",
        "**AUTEUR : KOANDA Boubacar**\n",
        "\n",
        "\n",
        "Le but de cet exercice étant d'extraire un sous-ensemble de données à partir d'une base de données plus grande. Supposons que nous ayons besoin de réaliser une application qui prend en entrée, des noms de lieux du Burkina Faso, avec des informations telles que la latitude/longitude.\n",
        "Pour ce faire, nous décidons d'extraire ces informations à partir du server de référencement géoname\n",
        "(http://www.geonames.org/). Nous procedons de la façon suivante :\n",
        "\n",
        "**1 - Exporter la base de données pour le Burkina Faso :\n",
        "en se référant au fichier README pour identifier le code ISO correspondant au Burkina Faso.**\n",
        "\n",
        "**2 - Téléchargez le fichier zip correspondant depuis le lien https://download.geonames.org/export/dump/.**\n",
        "\n",
        "**3 - Appliquer les opérations de prétraitement et filtres nécessaires à ce fichier, pour ne garder que les colonnes correspondantes :**\n"
      ],
      "metadata": {
        "id": "EWsjn_ILnp7F"
      }
    },
    {
      "cell_type": "markdown",
      "source": [
        "- Identifiez, renommez et sauvegardez les colonnes nécessaires dans un fichier CSV nommé burkina_location.csv. Tout d'abord il faut dezipper:"
      ],
      "metadata": {
        "id": "ir7IPcsDooQ7"
      }
    },
    {
      "cell_type": "code",
      "source": [
        "import zipfile\n",
        "import os\n",
        "import pandas as pd\n",
        "\n",
        "# Nom du fichier zip\n",
        "zip_file_name = 'BF.zip'\n",
        "\n",
        "# Emplacement du dossier\n",
        "folder_path = './'  # Changez-le selon l'emplacement de votre fichier zip\n",
        "\n",
        "# Extrait le contenu du fichier zip\n",
        "with zipfile.ZipFile(os.path.join(folder_path, zip_file_name), 'r') as zip_ref:\n",
        "    zip_ref.extractall(folder_path)"
      ],
      "metadata": {
        "id": "iYUfApFIoq8i"
      },
      "execution_count": 81,
      "outputs": []
    },
    {
      "cell_type": "code",
      "source": [
        "# Identifier toutes les colonnes nécessaires d'abord\n",
        "columns = ['geonameid', 'name', 'asciiname', 'alternatenames', 'latitude', 'longitude',\n",
        "                'feature_class', 'feature_code', 'country_code', 'cc2', 'admin1_code',\n",
        "                'admin2_code', 'admin3_code', 'admin4_code', 'population', 'elevation',\n",
        "                'dem', 'timezone', 'modification_date']"
      ],
      "metadata": {
        "id": "gk5bx0O2F0p2"
      },
      "execution_count": 82,
      "outputs": []
    },
    {
      "cell_type": "code",
      "source": [
        "# Charger les données dans un DataFrame\n",
        "data = pd.read_csv('BF.txt', sep='\\t', usecols=columns, names=columns, header=None)"
      ],
      "metadata": {
        "id": "5tJ43yPAqT4D"
      },
      "execution_count": 83,
      "outputs": []
    },
    {
      "cell_type": "code",
      "source": [
        "# Afficher les premieres colonnes pour voir\n",
        "print (data.head())\n",
        "print(\"\\n\")"
      ],
      "metadata": {
        "colab": {
          "base_uri": "https://localhost:8080/",
          "height": 0
        },
        "id": "gvPSHf3u_9yc",
        "outputId": "b97c4bb2-e102-463b-85ba-fb5a8ab069d9"
      },
      "execution_count": 102,
      "outputs": [
        {
          "output_type": "stream",
          "name": "stdout",
          "text": [
            "   geonameid                name           asciiname  \\\n",
            "0    2282318              Pouéné              Pouene   \n",
            "1    2285251  Léraba Occidentale  Leraba Occidentale   \n",
            "2    2287216           Kéléouoro           Keleouoro   \n",
            "3    2294066         White Volta         White Volta   \n",
            "4    2298457        Issana Bouga        Issana Bouga   \n",
            "\n",
            "                                      alternatenames  latitude  longitude  \\\n",
            "0                                                NaN   9.72908   -2.78660   \n",
            "1  Badini,La Leraba Occidentale,Leraba,Leraba Occ...  10.28333   -5.11667   \n",
            "2              Keleouoro,Keleworo,Kéléouoro,Kéléworo   9.80748   -4.05023   \n",
            "3  Nakambe,Nakambé,Nakanbe,Nakanbé,Volta Blanche,...   8.70194   -0.99056   \n",
            "4                      Issana Bouga,Lanyung,Lanyunga  10.91667   -1.18333   \n",
            "\n",
            "  feature_class feature_code country_code    cc2 admin1_code  admin2_code  \\\n",
            "0             H          STM           BF    NaN          00          NaN   \n",
            "1             H          STM           BF     CI          00          NaN   \n",
            "2             H          STM           BF  BF,CI          00          NaN   \n",
            "3             H          STM           BF     GH          00          NaN   \n",
            "4             H          STM           BF    NaN          00          NaN   \n",
            "\n",
            "   admin3_code  admin4_code  population  elevation  dem        timezone  \\\n",
            "0          NaN          NaN           0        NaN  226  Africa/Abidjan   \n",
            "1          NaN          NaN           0        NaN  283  Africa/Abidjan   \n",
            "2          NaN          NaN           0        NaN  261  Africa/Abidjan   \n",
            "3          NaN          NaN           0        NaN   75    Africa/Accra   \n",
            "4          NaN          NaN           0        NaN  178    Africa/Accra   \n",
            "\n",
            "  modification_date  \n",
            "0        2023-11-07  \n",
            "1        2023-11-07  \n",
            "2        2023-11-07  \n",
            "3        2023-11-08  \n",
            "4        2023-11-08  \n",
            "\n",
            "\n"
          ]
        }
      ]
    },
    {
      "cell_type": "markdown",
      "source": [
        "- Filtrer\tles colonnes Identifiants, Noms de lieux, latitudes, longitudes et les Renommer les avec les noms suivants : 'ID', 'location_name', 'lat', 'long'"
      ],
      "metadata": {
        "id": "Dw8-ZRwaoe6O"
      }
    },
    {
      "cell_type": "code",
      "source": [
        "# Filtrer les colonnes nécessaires\n",
        "filtered_data = data[['geonameid', 'name', 'latitude', 'longitude']]\n",
        "\n",
        "# Renommer les colonnes\n",
        "filtered_data.columns = ['ID', 'location_name', 'lat', 'long']\n",
        "\n",
        "# Afficher les premières lignes pour vérification\n",
        "print(\"\\n\")\n",
        "print(filtered_data.head())"
      ],
      "metadata": {
        "id": "FIP0HzHJqZk1",
        "colab": {
          "base_uri": "https://localhost:8080/",
          "height": 0
        },
        "outputId": "dbdf7d78-24cb-4ad1-c289-1566651169df"
      },
      "execution_count": 101,
      "outputs": [
        {
          "output_type": "stream",
          "name": "stdout",
          "text": [
            "\n",
            "\n",
            "        ID       location_name       lat     long\n",
            "0  2282318              Pouéné   9.72908 -2.78660\n",
            "1  2285251  Léraba Occidentale  10.28333 -5.11667\n",
            "2  2287216           Kéléouoro   9.80748 -4.05023\n",
            "3  2294066         White Volta   8.70194 -0.99056\n",
            "4  2298457        Issana Bouga  10.91667 -1.18333\n"
          ]
        }
      ]
    },
    {
      "cell_type": "markdown",
      "source": [
        "- Sauvegarder ces données dans un fichier CSV, nommez-le burkina_location.csv"
      ],
      "metadata": {
        "id": "OqDUVL9aog5K"
      }
    },
    {
      "cell_type": "code",
      "source": [
        "# Sauvegarde les données dans un fichier CSV\n",
        "csv_file_name = 'burkina_location.csv'\n",
        "filtered_data.to_csv(csv_file_name, index=False)\n",
        "\n",
        "print(f\"Données sauvegardées dans {csv_file_name}\")\n",
        "print(\"\\n\")"
      ],
      "metadata": {
        "colab": {
          "base_uri": "https://localhost:8080/",
          "height": 0
        },
        "id": "spdepFhQqcG2",
        "outputId": "f648c051-53ce-4d55-ac17-f027578d9950"
      },
      "execution_count": 99,
      "outputs": [
        {
          "output_type": "stream",
          "name": "stdout",
          "text": [
            "Données sauvegardées dans burkina_location.csv\n",
            "\n",
            "\n"
          ]
        }
      ]
    },
    {
      "cell_type": "markdown",
      "source": [
        "**4- Opérations sur le fichier CSV burkina_location.csv**\n",
        "\n",
        "- **4.1** Extraction des données 'gounghin'\n",
        "Extraire les données du fichier burkina_location.csv qui contiennent le nom 'gounghin'.\n",
        "Enregistrez ces données dans un fichier CSV nommé gounghin.csv.\n"
      ],
      "metadata": {
        "id": "2JtPc545s4nC"
      }
    },
    {
      "cell_type": "code",
      "source": [
        "import pandas as pd\n",
        "\n",
        "# Chargement du fichier burkina_location.csv\n",
        "df = pd.read_csv('burkina_location.csv')\n",
        "\n",
        "# 4.1 Extraction des données 'gounghin'\n",
        "gounghin_data = df[df['location_name'].str.contains('gounghin', case=False)]\n",
        "gounghin_data.to_csv('gounghin.csv', index=False)\n",
        "\n",
        "# Afficher les résultats\n",
        "gounghin_data = pd.read_csv('gounghin.csv')\n",
        "print (gounghin_data)"
      ],
      "metadata": {
        "colab": {
          "base_uri": "https://localhost:8080/",
          "height": 0
        },
        "id": "K_pY3ZJ6uE1e",
        "outputId": "5ed2dab2-534e-40cd-b2e7-30c4c2d47062"
      },
      "execution_count": 87,
      "outputs": [
        {
          "output_type": "stream",
          "name": "stdout",
          "text": [
            "         ID                  location_name       lat     long\n",
            "0   2353306                       Gounghin  12.06677 -1.42134\n",
            "1   2360473                       Gounghin  12.62488 -1.36398\n",
            "2   2570204                       Gounghin  12.31436 -1.37900\n",
            "3  10342749                       Gounghin  12.06667 -0.15000\n",
            "4  10629032             BICIAB // Gounghin  12.35921 -1.54273\n",
            "5  11257296            Gounghin Department  12.06671 -0.15484\n",
            "6  11900526                  Gounghin Nord  12.36120 -1.55055\n",
            "7  11900528  Zone Industrielle de Gounghin  12.36631 -1.54137\n",
            "8  11900619                   Gounghin Sud  12.35298 -1.54342\n",
            "9  11900680                       Gounghin  12.35895 -1.54442\n"
          ]
        }
      ]
    },
    {
      "cell_type": "markdown",
      "source": [
        "- **4.2** Extraction de la sous-partie de la base de données\n",
        "Extraire la sous-partie de la base de données (fichier burkina_location.csv) où les noms des lieux commencent par les lettres entre 'A' et 'P' (ordre alphabétique).\n"
      ],
      "metadata": {
        "id": "70HtceiCtd6T"
      }
    },
    {
      "cell_type": "code",
      "source": [
        "# 4.2 Extraction de la sous-partie de la base de données (noms de lieux entre 'A' et 'P')\n",
        "a_to_p_data = df[df['location_name'].str[0].between('A', 'P', inclusive='both')]\n",
        "a_to_p_data.to_csv('A_to_P.csv', index=False)\n",
        "\n",
        "# Afficher les résultats\n",
        "A_to_P_data = pd.read_csv('A_to_P.csv')\n",
        "print(A_to_P_data)"
      ],
      "metadata": {
        "colab": {
          "base_uri": "https://localhost:8080/",
          "height": 0
        },
        "id": "F0ZVWbx3uJ6N",
        "outputId": "2ed1f145-6441-4be2-90b0-f69c079b1848"
      },
      "execution_count": 88,
      "outputs": [
        {
          "output_type": "stream",
          "name": "stdout",
          "text": [
            "            ID          location_name       lat     long\n",
            "0      2282318                 Pouéné   9.72908 -2.78660\n",
            "1      2285251     Léraba Occidentale  10.28333 -5.11667\n",
            "2      2287216              Kéléouoro   9.80748 -4.05023\n",
            "3      2298457           Issana Bouga  10.91667 -1.18333\n",
            "4      2353290  Forêt Classée de Ziga  12.47106 -1.08644\n",
            "...        ...                    ...       ...      ...\n",
            "8125  12640343               Cinkansé  11.11857  0.00993\n",
            "8126  12640344              Kompienga  11.08169  0.72365\n",
            "8127  12640603               Konglore  11.39510  0.06110\n",
            "8128  12687046               Monde-So  14.20081 -1.63983\n",
            "8129  12688712             Kanliyinou  12.15503  0.59881\n",
            "\n",
            "[8130 rows x 4 columns]\n"
          ]
        }
      ]
    },
    {
      "cell_type": "markdown",
      "source": [
        "- Identifiez respectivement la latitude minimale, la longitude minimale et les noms de lieux correspondants:"
      ],
      "metadata": {
        "id": "tu9Jeamq1DJW"
      }
    },
    {
      "cell_type": "code",
      "source": [
        "# Trouver la latitude minimale\n",
        "min_lat_row = A_to_P_data.loc[A_to_P_data['lat'].idxmin()]\n",
        "\n",
        "# Trouver la longitude minimale\n",
        "min_long_row = A_to_P_data.loc[A_to_P_data['long'].idxmin()]\n",
        "\n",
        "# Afficher les résultats\n",
        "print(\"Latitude minimale:\")\n",
        "print(min_lat_row[['lat', 'location_name']])\n",
        "\n",
        "print(\"\\nLongitude minimale:\")\n",
        "print(min_long_row[['long', 'location_name']])"
      ],
      "metadata": {
        "colab": {
          "base_uri": "https://localhost:8080/",
          "height": 0
        },
        "id": "AFvizui908EP",
        "outputId": "1d97bd72-cd0d-4f64-ce12-9f9b9e48695f"
      },
      "execution_count": 89,
      "outputs": [
        {
          "output_type": "stream",
          "name": "stdout",
          "text": [
            "Latitude minimale:\n",
            "lat              5.21609\n",
            "location_name      Komoé\n",
            "Name: 2954, dtype: object\n",
            "\n",
            "Longitude minimale:\n",
            "long             -5.65968\n",
            "location_name    Banifing\n",
            "Name: 1163, dtype: object\n"
          ]
        }
      ]
    },
    {
      "cell_type": "markdown",
      "source": [
        "- **4.3** Identification des lieux avec des coordonnées spécifiques :\n",
        "Identifiez les lieux dans le fichier burkina_location.csv dont les coordonnées sont comprises entre (lat >= 11 et lon <= 0.5)."
      ],
      "metadata": {
        "id": "9h13H4OFtgQ_"
      }
    },
    {
      "cell_type": "code",
      "source": [
        "# Convertir les colonnes 'lat' et 'long' en types numériques\n",
        "df['lat'] = pd.to_numeric(df['lat'], errors='coerce')\n",
        "df['long'] = pd.to_numeric(df['long'], errors='coerce')"
      ],
      "metadata": {
        "id": "Mlx_op4K4WIm"
      },
      "execution_count": null,
      "outputs": []
    },
    {
      "cell_type": "code",
      "source": [
        "# 4.3 Identification des lieux avec des coordonnées spécifiques (lat >= 11 et lon <= 0.5)\n",
        "specific_coords_data = df[(df['lat'] >= 11) & (df['long'] <= 0.5)]\n",
        "specific_coords_data.to_csv('specific_coords.csv', index=False)\n",
        "\n",
        "# Afficher les résultats\n",
        "print(\"Lieux dont les coordonnées sont comprises entre (lat >= 11 et lon <= 0.5):\\n\")\n",
        "specific_coords_data = pd.read_csv('specific_coords.csv')\n",
        "print(specific_coords_data)\n",
        "print(\"\\n\")"
      ],
      "metadata": {
        "colab": {
          "base_uri": "https://localhost:8080/",
          "height": 0
        },
        "id": "rTLMoaHRuLmw",
        "outputId": "e6fa7eb7-2fd0-4f95-abb4-f66fcd43cb35"
      },
      "execution_count": 98,
      "outputs": [
        {
          "output_type": "stream",
          "name": "stdout",
          "text": [
            "Lieux dont les coordonnées sont comprises entre (lat >= 11 et lon <= 0.5):\n",
            "\n",
            "            ID    location_name       lat     long\n",
            "0      2353158         Zyonguen  12.36667 -0.45000\n",
            "1      2353159        Zyiliwèlè  12.38333 -2.73333\n",
            "2      2353160           Zyanko  12.78333 -0.41667\n",
            "3      2353161            Zouta  13.14908 -1.28197\n",
            "4      2353162        Zourtenga  12.95741 -1.28745\n",
            "...        ...              ...       ...      ...\n",
            "9276  12640603         Konglore  11.39510  0.06110\n",
            "9277  12687046         Monde-So  14.20081 -1.63983\n",
            "9278  12688694          Yerfing  11.33747 -3.35025\n",
            "9279  12688713  Tinonguen-Peulh  11.64924 -0.22063\n",
            "9280  12720016            Yimdi  12.31014 -1.66322\n",
            "\n",
            "[9281 rows x 4 columns]\n",
            "\n",
            "\n"
          ]
        }
      ]
    },
    {
      "cell_type": "markdown",
      "source": [
        "**5 : Créer un fichier Excel et enregistrer les données extraites dans différentes feuilles.**"
      ],
      "metadata": {
        "id": "F7-ByfqKKNmE"
      }
    },
    {
      "cell_type": "code",
      "source": [
        "# Écrire les données 'A_to_P', 'specific_coords_data' et 'burkina_location' dans le fichier Excel\n",
        "with pd.ExcelWriter('mini_projet.xlsx') as writer:\n",
        "\n",
        "    # Écrire les données 'gounghin' dans la première feuille\n",
        "    gounghin_data.to_excel(writer, sheet_name='gounghin', index=False)\n",
        "\n",
        "    # Écrire les données 'A_to_P' dans la deuxième feuille\n",
        "    a_to_p_data.to_excel(writer, sheet_name='A_to_P', index=False)\n",
        "\n",
        "    # Écrire les données 'specific_coords_data' dans la troisième feuille\n",
        "    #specific_coords_data.to_excel(writer, sheet_name='Coords_Specifiques', index=False)\n",
        "    # Écrire les données 'burkina_location' dans la quatrième feuille\n",
        "    #filtered_data.to_excel(writer, sheet_name='burkina_location', index=False)\n",
        "\n"
      ],
      "metadata": {
        "id": "2MMqEy_hKNQ9"
      },
      "execution_count": 104,
      "outputs": []
    }
  ]
}